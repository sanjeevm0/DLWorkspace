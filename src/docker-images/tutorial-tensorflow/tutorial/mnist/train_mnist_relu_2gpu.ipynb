{
 "cells": [
  {
   "cell_type": "code",
   "execution_count": 1,
   "metadata": {
    "scrolled": true
   },
   "outputs": [
    {
     "name": "stderr",
     "output_type": "stream",
     "text": [
      "/usr/local/lib/python3.5/dist-packages/h5py/__init__.py:36: FutureWarning: Conversion of the second argument of issubdtype from `float` to `np.floating` is deprecated. In future, it will be treated as `np.float64 == np.dtype(float).type`.\n",
      "  from ._conv import register_converters as _register_converters\n",
      "Using TensorFlow backend.\n"
     ]
    },
    {
     "name": "stdout",
     "output_type": "stream",
     "text": [
      "[name: \"/device:CPU:0\"\n",
      "device_type: \"CPU\"\n",
      "memory_limit: 268435456\n",
      "locality {\n",
      "}\n",
      "incarnation: 17523762744075764734\n",
      ", name: \"/device:GPU:0\"\n",
      "device_type: \"GPU\"\n",
      "memory_limit: 11987822183\n",
      "locality {\n",
      "  bus_id: 1\n",
      "  links {\n",
      "    link {\n",
      "      device_id: 1\n",
      "      type: \"StreamExecutor\"\n",
      "      strength: 1\n",
      "    }\n",
      "  }\n",
      "}\n",
      "incarnation: 13152789423228532280\n",
      "physical_device_desc: \"device: 0, name: GeForce GTX TITAN X, pci bus id: 0000:05:00.0, compute capability: 5.2\"\n",
      ", name: \"/device:GPU:1\"\n",
      "device_type: \"GPU\"\n",
      "memory_limit: 11987822183\n",
      "locality {\n",
      "  bus_id: 1\n",
      "  links {\n",
      "    link {\n",
      "      type: \"StreamExecutor\"\n",
      "      strength: 1\n",
      "    }\n",
      "  }\n",
      "}\n",
      "incarnation: 2548107726475082033\n",
      "physical_device_desc: \"device: 1, name: GeForce GTX TITAN X, pci bus id: 0000:08:00.0, compute capability: 5.2\"\n",
      "]\n"
     ]
    },
    {
     "data": {
      "text/plain": [
       "<Figure size 640x480 with 9 Axes>"
      ]
     },
     "metadata": {},
     "output_type": "display_data"
    }
   ],
   "source": [
    "'''Trains a simple convnet on the MNIST dataset.\n",
    "\n",
    "Gets to 99.25% test accuracy after 28 epochs\n",
    "'''\n",
    "\n",
    "from __future__ import print_function\n",
    "import keras\n",
    "from keras.datasets import mnist\n",
    "from keras.models import Sequential\n",
    "from keras.layers import Dense, Dropout, Flatten\n",
    "from keras.layers import Conv2D, MaxPooling2D\n",
    "from keras import backend as K\n",
    "from keras.preprocessing.image import ImageDataGenerator\n",
    "from keras.utils import multi_gpu_model\n",
    "from matplotlib import pyplot\n",
    "import tensorflow as tf\n",
    "sess = tf.Session(config=tf.ConfigProto(log_device_placement=True))\n",
    "from tensorflow.python.client import device_lib\n",
    "print(device_lib.list_local_devices())\n",
    "\n",
    "batch_size = 128\n",
    "num_classes = 10\n",
    "epochs = 200\n",
    "\n",
    "# input image dimensions\n",
    "img_rows, img_cols = 28, 28\n",
    "\n",
    "# the data, shuffled and split between train and test sets\n",
    "(x_train, y_train), (x_test, y_test) = mnist.load_data()\n",
    "\n",
    "# create a grid of 3x3 images\n",
    "for i in range(0, 9):\n",
    "    pyplot.subplot(330 + 1 + i)\n",
    "    pyplot.imshow(x_train[i], cmap=pyplot.get_cmap('gray'))\n",
    "    \n",
    "# show the plot\n",
    "pyplot.show()"
   ]
  },
  {
   "cell_type": "code",
   "execution_count": 2,
   "metadata": {},
   "outputs": [
    {
     "data": {
      "image/png": "[encoded data removed]",
      "text/plain": [
       "<Figure size 432x288 with 9 Axes>"
      ]
     },
     "metadata": {},
     "output_type": "display_data"
    }
   ],
   "source": [
    "if K.image_data_format() == 'channels_first':\n",
    "    x_train = x_train.reshape(x_train.shape[0], 1, img_rows, img_cols)\n",
    "    x_test = x_test.reshape(x_test.shape[0], 1, img_rows, img_cols)\n",
    "    input_shape = (1, img_rows, img_cols)\n",
    "else:\n",
    "    x_train = x_train.reshape(x_train.shape[0], img_rows, img_cols, 1)\n",
    "    x_test = x_test.reshape(x_test.shape[0], img_rows, img_cols, 1)\n",
    "    input_shape = (img_rows, img_cols, 1)\n",
    "\n",
    "nb_train_samples = x_train.shape[0]\n",
    "nb_test_samples = x_test.shape[0]\n",
    "\n",
    "# define data preparation\n",
    "train_datagen_rand = ImageDataGenerator(\n",
    "    rescale=1. / 255.,\n",
    "    rotation_range=20,\n",
    "    width_shift_range=0.2,\n",
    "    height_shift_range=0.2 )\n",
    "\n",
    "train_datagen = ImageDataGenerator( rescale=1. / 255. )\n",
    "\n",
    "test_datagen = ImageDataGenerator(\n",
    "    rescale = 1./255.)\n",
    "\n",
    "# fit parameters from data\n",
    "train_datagen.fit(x_train)\n",
    "test_datagen.fit(x_test)\n",
    "# configure batch size and retrieve one batch of images\n",
    "for x_batch, y_batch in train_datagen.flow(x_train, y_train, batch_size=9):\n",
    "    # create a grid of 3x3 images\n",
    "    for i in range(0, 9):\n",
    "        pyplot.subplot(330 + 1 + i)\n",
    "        pyplot.imshow(x_batch[i].reshape(28, 28), cmap=pyplot.get_cmap('gray'))\n",
    "    # show the plot\n",
    "    pyplot.show()\n",
    "    break\n",
    "    "
   ]
  },
  {
   "cell_type": "code",
   "execution_count": 3,
   "metadata": {},
   "outputs": [
    {
     "name": "stdout",
     "output_type": "stream",
     "text": [
      "Epoch 1/30\n",
      "468/468 [==============================] - 12s 25ms/step - loss: 0.2628 - acc: 0.9188 - val_loss: 0.0566 - val_acc: 0.9816\n",
      "Epoch 2/30\n",
      "468/468 [==============================] - 8s 17ms/step - loss: 0.0887 - acc: 0.9737 - val_loss: 0.0388 - val_acc: 0.9864\n",
      "Epoch 3/30\n",
      "468/468 [==============================] - 8s 17ms/step - loss: 0.0650 - acc: 0.9804 - val_loss: 0.0337 - val_acc: 0.9885\n",
      "Epoch 4/30\n",
      "468/468 [==============================] - 8s 17ms/step - loss: 0.0564 - acc: 0.9833 - val_loss: 0.0309 - val_acc: 0.9891\n",
      "Epoch 5/30\n",
      "468/468 [==============================] - 8s 17ms/step - loss: 0.0472 - acc: 0.9860 - val_loss: 0.0282 - val_acc: 0.9913\n",
      "Epoch 6/30\n",
      "468/468 [==============================] - 8s 17ms/step - loss: 0.0423 - acc: 0.9870 - val_loss: 0.0273 - val_acc: 0.9912\n",
      "Epoch 7/30\n",
      "468/468 [==============================] - 8s 17ms/step - loss: 0.0380 - acc: 0.9880 - val_loss: 0.0261 - val_acc: 0.9914\n",
      "Epoch 8/30\n",
      "468/468 [==============================] - 8s 17ms/step - loss: 0.0349 - acc: 0.9893 - val_loss: 0.0240 - val_acc: 0.9916\n",
      "Epoch 9/30\n",
      "468/468 [==============================] - 8s 17ms/step - loss: 0.0313 - acc: 0.9902 - val_loss: 0.0263 - val_acc: 0.9909\n",
      "Epoch 10/30\n",
      "468/468 [==============================] - 8s 17ms/step - loss: 0.0295 - acc: 0.9911 - val_loss: 0.0295 - val_acc: 0.9902\n",
      "Epoch 11/30\n",
      "468/468 [==============================] - 8s 17ms/step - loss: 0.0269 - acc: 0.9913 - val_loss: 0.0245 - val_acc: 0.9921\n",
      "Epoch 12/30\n",
      "468/468 [==============================] - 8s 17ms/step - loss: 0.0254 - acc: 0.9915 - val_loss: 0.0247 - val_acc: 0.9919\n",
      "Epoch 13/30\n",
      "468/468 [==============================] - 8s 17ms/step - loss: 0.0260 - acc: 0.9921 - val_loss: 0.0261 - val_acc: 0.9919\n",
      "Epoch 14/30\n",
      "468/468 [==============================] - 8s 17ms/step - loss: 0.0241 - acc: 0.9925 - val_loss: 0.0254 - val_acc: 0.9929\n",
      "Epoch 15/30\n",
      "468/468 [==============================] - 8s 17ms/step - loss: 0.0227 - acc: 0.9927 - val_loss: 0.0259 - val_acc: 0.9921\n",
      "Epoch 16/30\n",
      "468/468 [==============================] - 8s 17ms/step - loss: 0.0232 - acc: 0.9928 - val_loss: 0.0262 - val_acc: 0.9918\n",
      "Epoch 17/30\n",
      "468/468 [==============================] - 8s 17ms/step - loss: 0.0231 - acc: 0.9925 - val_loss: 0.0245 - val_acc: 0.9925\n",
      "Epoch 18/30\n",
      "468/468 [==============================] - 8s 17ms/step - loss: 0.0202 - acc: 0.9938 - val_loss: 0.0289 - val_acc: 0.9917\n",
      "Epoch 19/30\n",
      "468/468 [==============================] - 8s 17ms/step - loss: 0.0204 - acc: 0.9930 - val_loss: 0.0263 - val_acc: 0.9925\n",
      "Epoch 20/30\n",
      "468/468 [==============================] - 8s 17ms/step - loss: 0.0199 - acc: 0.9936 - val_loss: 0.0263 - val_acc: 0.9918\n",
      "Epoch 21/30\n",
      "468/468 [==============================] - 8s 17ms/step - loss: 0.0188 - acc: 0.9942 - val_loss: 0.0265 - val_acc: 0.9925\n",
      "Epoch 22/30\n",
      "468/468 [==============================] - 8s 17ms/step - loss: 0.0184 - acc: 0.9942 - val_loss: 0.0246 - val_acc: 0.9928\n",
      "Epoch 23/30\n",
      "468/468 [==============================] - 8s 17ms/step - loss: 0.0186 - acc: 0.9939 - val_loss: 0.0244 - val_acc: 0.9923\n",
      "Epoch 24/30\n",
      "468/468 [==============================] - 8s 17ms/step - loss: 0.0186 - acc: 0.9941 - val_loss: 0.0261 - val_acc: 0.9922\n",
      "Epoch 25/30\n",
      "468/468 [==============================] - 8s 17ms/step - loss: 0.0166 - acc: 0.9949 - val_loss: 0.0276 - val_acc: 0.9925\n",
      "Epoch 26/30\n",
      "468/468 [==============================] - 8s 17ms/step - loss: 0.0171 - acc: 0.9944 - val_loss: 0.0270 - val_acc: 0.9937\n",
      "Epoch 27/30\n",
      "468/468 [==============================] - 8s 17ms/step - loss: 0.0182 - acc: 0.9943 - val_loss: 0.0262 - val_acc: 0.9934\n",
      "Epoch 28/30\n",
      "468/468 [==============================] - 8s 17ms/step - loss: 0.0164 - acc: 0.9947 - val_loss: 0.0269 - val_acc: 0.9922\n",
      "Epoch 29/30\n",
      "468/468 [==============================] - 8s 17ms/step - loss: 0.0163 - acc: 0.9949 - val_loss: 0.0231 - val_acc: 0.9929\n",
      "Epoch 30/30\n",
      "468/468 [==============================] - 8s 17ms/step - loss: 0.0166 - acc: 0.9949 - val_loss: 0.0269 - val_acc: 0.9922\n"
     ]
    },
    {
     "data": {
      "text/plain": [
       "<keras.callbacks.History at 0x7f87f4041e80>"
      ]
     },
     "execution_count": 3,
     "metadata": {},
     "output_type": "execute_result"
    }
   ],
   "source": [
    "batch_size = 128\n",
    "epochs = 30\n",
    "num_gpu = 2\n",
    "\n",
    "# convert class vectors to binary class matrices\n",
    "y_train_onehot = keras.utils.to_categorical(y_train, num_classes)\n",
    "x_test_norm = x_test/255.\n",
    "y_test_onehot = keras.utils.to_categorical(y_test, num_classes)\n",
    "\n",
    "train_generator = train_datagen.flow(\n",
    "    x_train, y_train_onehot, \n",
    "    batch_size=batch_size)\n",
    "\n",
    "validation_generator = test_datagen.flow(\n",
    "    x_test, y_test_onehot, \n",
    "    batch_size=batch_size,\n",
    "    shuffle=False)\n",
    "\n",
    "model_store = \"/cpu:0\"\n",
    "with tf.device(model_store):\n",
    "    base_model = Sequential()\n",
    "    base_model.add(Conv2D(32, kernel_size=(3, 3),\n",
    "                     activation='relu',\n",
    "                     input_shape=input_shape))\n",
    "    base_model.add(Conv2D(64, (3, 3), activation='relu'))\n",
    "    base_model.add(MaxPooling2D(pool_size=(2, 2)))\n",
    "    base_model.add(Dropout(0.25))\n",
    "    base_model.add(Flatten())\n",
    "    base_model.add(Dense(128, activation='relu'))\n",
    "    base_model.add(Dropout(0.5))\n",
    "    base_model.add(Dense(num_classes, activation='softmax'))\n",
    "    \n",
    "\n",
    "model = multi_gpu_model(base_model, gpus=num_gpu)\n",
    "\n",
    "model.compile(loss=keras.losses.categorical_crossentropy,\n",
    "              optimizer=keras.optimizers.Adadelta(),\n",
    "              metrics=['accuracy'])\n",
    "\n",
    "model.fit_generator(train_generator,\n",
    "                    steps_per_epoch=nb_train_samples // batch_size,\n",
    "          epochs=epochs,\n",
    "          verbose=1,\n",
    "          validation_data=validation_generator,\n",
    "          validation_steps=nb_train_samples // batch_size,\n",
    "                    initial_epoch = 0\n",
    "         )\n"
   ]
  },
  {
   "cell_type": "code",
   "execution_count": 4,
   "metadata": {},
   "outputs": [
    {
     "name": "stdout",
     "output_type": "stream",
     "text": [
      "Test loss: 0.02695157506598189\n",
      "Test accuracy: 0.9922\n"
     ]
    }
   ],
   "source": [
    "score = model.evaluate_generator(validation_generator)\n",
    "print('Test loss:', score[0])\n",
    "print('Test accuracy:', score[1])\n",
    "res = model.predict_generator(validation_generator)"
   ]
  },
  {
   "cell_type": "code",
   "execution_count": 5,
   "metadata": {},
   "outputs": [],
   "source": [
    "import numpy as np\n",
    "tt = np.array([0]*10)\n",
    "tf = np.array([0]*10)\n",
    "ft = np.array([0]*10)\n",
    "ff = np.array([0]*10)\n",
    "pred= np.argmax(res,axis=1)\n",
    "for i in range(len(y_test)):\n",
    "    # print(str(pred[i])+\"/\"+str(validation_generator.classes[i]))\n",
    "    for j in range(10):\n",
    "        actc = str(j)\n",
    "        if str(y_test[i])==actc:\n",
    "            if str(pred[i]) == actc:\n",
    "                tt[j]+=1\n",
    "            else:\n",
    "                tf[j]+=1\n",
    "        else:\n",
    "            if str(pred[i]) == actc:\n",
    "                ft[j]+=1\n",
    "            else:\n",
    "                ff[j]+=1"
   ]
  },
  {
   "cell_type": "code",
   "execution_count": 6,
   "metadata": {},
   "outputs": [
    {
     "name": "stdout",
     "output_type": "stream",
     "text": [
      "[7 2 1 ... 4 5 6]\n"
     ]
    }
   ],
   "source": [
    "from sklearn.metrics import *\n",
    "print(pred )\n",
    "cnf_matrix = confusion_matrix(y_test, pred)"
   ]
  },
  {
   "cell_type": "code",
   "execution_count": 7,
   "metadata": {},
   "outputs": [
    {
     "name": "stdout",
     "output_type": "stream",
     "text": [
      "Normalized confusion matrix\n",
      "[[9.94897959e-01 0.00000000e+00 3.06122449e-03 0.00000000e+00\n",
      "  0.00000000e+00 0.00000000e+00 0.00000000e+00 0.00000000e+00\n",
      "  1.02040816e-03 1.02040816e-03]\n",
      " [0.00000000e+00 9.99118943e-01 0.00000000e+00 8.81057269e-04\n",
      "  0.00000000e+00 0.00000000e+00 0.00000000e+00 0.00000000e+00\n",
      "  0.00000000e+00 0.00000000e+00]\n",
      " [9.68992248e-04 9.68992248e-04 9.94186047e-01 0.00000000e+00\n",
      "  0.00000000e+00 0.00000000e+00 0.00000000e+00 3.87596899e-03\n",
      "  0.00000000e+00 0.00000000e+00]\n",
      " [0.00000000e+00 0.00000000e+00 9.90099010e-04 9.96039604e-01\n",
      "  0.00000000e+00 9.90099010e-04 0.00000000e+00 0.00000000e+00\n",
      "  1.98019802e-03 0.00000000e+00]\n",
      " [0.00000000e+00 0.00000000e+00 0.00000000e+00 0.00000000e+00\n",
      "  9.88798371e-01 0.00000000e+00 3.05498982e-03 0.00000000e+00\n",
      "  2.03665988e-03 6.10997963e-03]\n",
      " [1.12107623e-03 0.00000000e+00 0.00000000e+00 1.00896861e-02\n",
      "  0.00000000e+00 9.86547085e-01 1.12107623e-03 0.00000000e+00\n",
      "  1.12107623e-03 0.00000000e+00]\n",
      " [4.17536534e-03 2.08768267e-03 0.00000000e+00 0.00000000e+00\n",
      "  1.04384134e-03 1.04384134e-03 9.89561587e-01 0.00000000e+00\n",
      "  2.08768267e-03 0.00000000e+00]\n",
      " [0.00000000e+00 1.94552529e-03 5.83657588e-03 9.72762646e-04\n",
      "  0.00000000e+00 0.00000000e+00 0.00000000e+00 9.89299611e-01\n",
      "  9.72762646e-04 9.72762646e-04]\n",
      " [1.02669405e-03 0.00000000e+00 2.05338809e-03 0.00000000e+00\n",
      "  0.00000000e+00 0.00000000e+00 0.00000000e+00 1.02669405e-03\n",
      "  9.93839836e-01 2.05338809e-03]\n",
      " [0.00000000e+00 0.00000000e+00 0.00000000e+00 1.98216056e-03\n",
      "  3.96432111e-03 2.97324083e-03 0.00000000e+00 9.91080278e-04\n",
      "  1.98216056e-03 9.88107037e-01]]\n"
     ]
    },
    {
     "data": {
      "image/png": "[encoded data removed]",
      "text/plain": [
       "<Figure size 432x288 with 2 Axes>"
      ]
     },
     "metadata": {},
     "output_type": "display_data"
    }
   ],
   "source": [
    "import sys\n",
    "sys.path.append(\"../utils\")\n",
    "from confusion import *\n",
    "plot_confusion_matrix(cnf_matrix, [str(i+1) for i in range(10)],normalize=True)"
   ]
  },
  {
   "cell_type": "code",
   "execution_count": null,
   "metadata": {},
   "outputs": [],
   "source": []
  }
 ],
 "metadata": {
  "kernelspec": {
   "display_name": "Python 3",
   "language": "python",
   "name": "python3"
  },
  "language_info": {
   "codemirror_mode": {
    "name": "ipython",
    "version": 3
   },
   "file_extension": ".py",
   "mimetype": "text/x-python",
   "name": "python",
   "nbconvert_exporter": "python",
   "pygments_lexer": "ipython3",
   "version": "3.5.2"
  }
 },
 "nbformat": 4,
 "nbformat_minor": 2
}
