{
 "cells": [
  {
   "cell_type": "code",
   "execution_count": 1,
   "metadata": {
    "scrolled": true
   },
   "outputs": [
    {
     "name": "stderr",
     "output_type": "stream",
     "text": [
      "/usr/local/lib/python3.5/dist-packages/h5py/__init__.py:36: FutureWarning: Conversion of the second argument of issubdtype from `float` to `np.floating` is deprecated. In future, it will be treated as `np.float64 == np.dtype(float).type`.\n",
      "  from ._conv import register_converters as _register_converters\n",
      "Using TensorFlow backend.\n"
     ]
    },
    {
     "name": "stdout",
     "output_type": "stream",
     "text": [
      "[name: \"/device:CPU:0\"\n",
      "device_type: \"CPU\"\n",
      "memory_limit: 268435456\n",
      "locality {\n",
      "}\n",
      "incarnation: 15513967868950319640\n",
      ", name: \"/device:GPU:0\"\n",
      "device_type: \"GPU\"\n",
      "memory_limit: 11987822183\n",
      "locality {\n",
      "  bus_id: 1\n",
      "  links {\n",
      "    link {\n",
      "      device_id: 1\n",
      "      type: \"StreamExecutor\"\n",
      "      strength: 1\n",
      "    }\n",
      "  }\n",
      "}\n",
      "incarnation: 6696561246214831237\n",
      "physical_device_desc: \"device: 0, name: GeForce GTX TITAN X, pci bus id: 0000:05:00.0, compute capability: 5.2\"\n",
      ", name: \"/device:GPU:1\"\n",
      "device_type: \"GPU\"\n",
      "memory_limit: 11987822183\n",
      "locality {\n",
      "  bus_id: 1\n",
      "  links {\n",
      "    link {\n",
      "      type: \"StreamExecutor\"\n",
      "      strength: 1\n",
      "    }\n",
      "  }\n",
      "}\n",
      "incarnation: 15339796779302842905\n",
      "physical_device_desc: \"device: 1, name: GeForce GTX TITAN X, pci bus id: 0000:08:00.0, compute capability: 5.2\"\n",
      "]\n"
     ]
    },
    {
     "data": {
      "text/plain": [
       "<Figure size 640x480 with 9 Axes>"
      ]
     },
     "metadata": {},
     "output_type": "display_data"
    }
   ],
   "source": [
    "'''Trains a simple convnet on the MNIST dataset.\n",
    "\n",
    "Gets to 99.25% test accuracy after 28 epochs\n",
    "'''\n",
    "\n",
    "from __future__ import print_function\n",
    "import keras\n",
    "from keras.datasets import mnist\n",
    "from keras.models import Sequential, Model\n",
    "from keras.layers import Dense, Dropout, Flatten, Activation, BatchNormalization, Input\n",
    "from keras.layers import Conv2D, MaxPooling2D\n",
    "from keras import backend as K\n",
    "from keras.preprocessing.image import ImageDataGenerator\n",
    "from keras.utils import multi_gpu_model\n",
    "from matplotlib import pyplot\n",
    "import tensorflow as tf\n",
    "sess = tf.Session(config=tf.ConfigProto(log_device_placement=True))\n",
    "from tensorflow.python.client import device_lib\n",
    "print(device_lib.list_local_devices())\n",
    "\n",
    "batch_size = 128\n",
    "num_classes = 10\n",
    "epochs = 200\n",
    "\n",
    "# input image dimensions\n",
    "img_rows, img_cols = 28, 28\n",
    "\n",
    "# the data, shuffled and split between train and test sets\n",
    "(x_train, y_train), (x_test, y_test) = mnist.load_data()\n",
    "\n",
    "# create a grid of 3x3 images\n",
    "for i in range(0, 9):\n",
    "    pyplot.subplot(330 + 1 + i)\n",
    "    pyplot.imshow(x_train[i], cmap=pyplot.get_cmap('gray'))\n",
    "    \n",
    "# show the plot\n",
    "pyplot.show()"
   ]
  },
  {
   "cell_type": "code",
   "execution_count": 2,
   "metadata": {},
   "outputs": [
    {
     "data": {
      "image/png": "[encoded data removed]",
      "text/plain": [
       "<Figure size 432x288 with 9 Axes>"
      ]
     },
     "metadata": {},
     "output_type": "display_data"
    }
   ],
   "source": [
    "if K.image_data_format() == 'channels_first':\n",
    "    x_train = x_train.reshape(x_train.shape[0], 1, img_rows, img_cols)\n",
    "    x_test = x_test.reshape(x_test.shape[0], 1, img_rows, img_cols)\n",
    "    input_shape = (1, img_rows, img_cols)\n",
    "    bn_axis = 1\n",
    "else:\n",
    "    x_train = x_train.reshape(x_train.shape[0], img_rows, img_cols, 1)\n",
    "    x_test = x_test.reshape(x_test.shape[0], img_rows, img_cols, 1)\n",
    "    input_shape = (img_rows, img_cols, 1)\n",
    "    bn_axis = 3\n",
    "\n",
    "nb_train_samples = x_train.shape[0]\n",
    "nb_test_samples = x_test.shape[0]\n",
    "\n",
    "# define data preparation\n",
    "train_datagen_rand = ImageDataGenerator(\n",
    "    rescale=1. / 255.,\n",
    "    rotation_range=20,\n",
    "    width_shift_range=0.2,\n",
    "    height_shift_range=0.2 )\n",
    "\n",
    "train_datagen = ImageDataGenerator( rescale=1. / 255. )\n",
    "\n",
    "test_datagen = ImageDataGenerator(\n",
    "    rescale = 1./255.)\n",
    "\n",
    "# fit parameters from data\n",
    "train_datagen.fit(x_train)\n",
    "test_datagen.fit(x_test)\n",
    "# configure batch size and retrieve one batch of images\n",
    "for x_batch, y_batch in train_datagen.flow(x_train, y_train, batch_size=9):\n",
    "    # create a grid of 3x3 images\n",
    "    for i in range(0, 9):\n",
    "        pyplot.subplot(330 + 1 + i)\n",
    "        pyplot.imshow(x_batch[i].reshape(28, 28), cmap=pyplot.get_cmap('gray'))\n",
    "    # show the plot\n",
    "    pyplot.show()\n",
    "    break\n",
    "    "
   ]
  },
  {
   "cell_type": "code",
   "execution_count": 5,
   "metadata": {},
   "outputs": [
    {
     "name": "stdout",
     "output_type": "stream",
     "text": [
      "Epoch 1/30\n",
      "468/468 [==============================] - 13s 28ms/step - loss: 0.5394 - acc: 0.8394 - val_loss: 0.0993 - val_acc: 0.9676\n",
      "Epoch 2/30\n",
      "468/468 [==============================] - 9s 20ms/step - loss: 0.1594 - acc: 0.9544 - val_loss: 0.0519 - val_acc: 0.9831\n",
      "Epoch 3/30\n",
      "468/468 [==============================] - 9s 19ms/step - loss: 0.1179 - acc: 0.9665 - val_loss: 0.0414 - val_acc: 0.9865\n",
      "Epoch 4/30\n",
      "468/468 [==============================] - 9s 20ms/step - loss: 0.0983 - acc: 0.9719 - val_loss: 0.0367 - val_acc: 0.9888\n",
      "Epoch 5/30\n",
      "468/468 [==============================] - 9s 19ms/step - loss: 0.0797 - acc: 0.9764 - val_loss: 0.0348 - val_acc: 0.9887\n",
      "Epoch 6/30\n",
      "468/468 [==============================] - 9s 19ms/step - loss: 0.0747 - acc: 0.9790 - val_loss: 0.0391 - val_acc: 0.9881\n",
      "Epoch 7/30\n",
      "468/468 [==============================] - 9s 19ms/step - loss: 0.0679 - acc: 0.9810 - val_loss: 0.0368 - val_acc: 0.9894\n",
      "Epoch 8/30\n",
      "468/468 [==============================] - 9s 19ms/step - loss: 0.0616 - acc: 0.9821 - val_loss: 0.0423 - val_acc: 0.9873\n",
      "Epoch 9/30\n",
      "468/468 [==============================] - 9s 19ms/step - loss: 0.0587 - acc: 0.9828 - val_loss: 0.0365 - val_acc: 0.9888\n",
      "Epoch 10/30\n",
      "468/468 [==============================] - 9s 20ms/step - loss: 0.0534 - acc: 0.9847 - val_loss: 0.0346 - val_acc: 0.9893\n",
      "Epoch 11/30\n",
      "468/468 [==============================] - 9s 19ms/step - loss: 0.0501 - acc: 0.9855 - val_loss: 0.0314 - val_acc: 0.9897\n",
      "Epoch 12/30\n",
      "468/468 [==============================] - 9s 19ms/step - loss: 0.0480 - acc: 0.9863 - val_loss: 0.0379 - val_acc: 0.9896\n",
      "Epoch 13/30\n",
      "468/468 [==============================] - 9s 19ms/step - loss: 0.0452 - acc: 0.9863 - val_loss: 0.0299 - val_acc: 0.9910\n",
      "Epoch 14/30\n",
      "468/468 [==============================] - 9s 20ms/step - loss: 0.0457 - acc: 0.9866 - val_loss: 0.0311 - val_acc: 0.9904\n",
      "Epoch 15/30\n",
      "468/468 [==============================] - 9s 19ms/step - loss: 0.0441 - acc: 0.9874 - val_loss: 0.0332 - val_acc: 0.9904\n",
      "Epoch 16/30\n",
      "468/468 [==============================] - 9s 20ms/step - loss: 0.0417 - acc: 0.9877 - val_loss: 0.0283 - val_acc: 0.9914\n",
      "Epoch 17/30\n",
      "468/468 [==============================] - 9s 19ms/step - loss: 0.0381 - acc: 0.9881 - val_loss: 0.0301 - val_acc: 0.9921\n",
      "Epoch 18/30\n",
      "468/468 [==============================] - 9s 19ms/step - loss: 0.0392 - acc: 0.9884 - val_loss: 0.0343 - val_acc: 0.9910\n",
      "Epoch 19/30\n",
      "468/468 [==============================] - 9s 20ms/step - loss: 0.0384 - acc: 0.9885 - val_loss: 0.0333 - val_acc: 0.9913\n",
      "Epoch 20/30\n",
      "468/468 [==============================] - 9s 19ms/step - loss: 0.0369 - acc: 0.9891 - val_loss: 0.0292 - val_acc: 0.9910\n",
      "Epoch 21/30\n",
      "468/468 [==============================] - 9s 19ms/step - loss: 0.0341 - acc: 0.9902 - val_loss: 0.0322 - val_acc: 0.9919\n",
      "Epoch 22/30\n",
      "468/468 [==============================] - 9s 19ms/step - loss: 0.0363 - acc: 0.9893 - val_loss: 0.0379 - val_acc: 0.9914\n",
      "Epoch 23/30\n",
      "468/468 [==============================] - 9s 19ms/step - loss: 0.0336 - acc: 0.9900 - val_loss: 0.0305 - val_acc: 0.9910\n",
      "Epoch 24/30\n",
      "468/468 [==============================] - 9s 19ms/step - loss: 0.0328 - acc: 0.9901 - val_loss: 0.0392 - val_acc: 0.9908\n",
      "Epoch 25/30\n",
      "468/468 [==============================] - 9s 19ms/step - loss: 0.0342 - acc: 0.9900 - val_loss: 0.0330 - val_acc: 0.9920\n",
      "Epoch 26/30\n",
      "468/468 [==============================] - 9s 19ms/step - loss: 0.0335 - acc: 0.9900 - val_loss: 0.0383 - val_acc: 0.9909\n",
      "Epoch 27/30\n",
      "468/468 [==============================] - 9s 19ms/step - loss: 0.0322 - acc: 0.9906 - val_loss: 0.0370 - val_acc: 0.9909\n",
      "Epoch 28/30\n",
      "468/468 [==============================] - 9s 19ms/step - loss: 0.0321 - acc: 0.9903 - val_loss: 0.0326 - val_acc: 0.9931\n",
      "Epoch 29/30\n",
      "468/468 [==============================] - 9s 20ms/step - loss: 0.0330 - acc: 0.9904 - val_loss: 0.0303 - val_acc: 0.9916\n",
      "Epoch 30/30\n",
      "468/468 [==============================] - 9s 20ms/step - loss: 0.0306 - acc: 0.9909 - val_loss: 0.0318 - val_acc: 0.9921\n"
     ]
    },
    {
     "data": {
      "text/plain": [
       "<keras.callbacks.History at 0x7f79e80c9320>"
      ]
     },
     "execution_count": 5,
     "metadata": {},
     "output_type": "execute_result"
    }
   ],
   "source": [
    "batch_size = 128\n",
    "epochs = 30\n",
    "num_gpu = 2\n",
    "\n",
    "# convert class vectors to binary class matrices\n",
    "y_train_onehot = keras.utils.to_categorical(y_train, num_classes)\n",
    "x_test_norm = x_test/255.\n",
    "y_test_onehot = keras.utils.to_categorical(y_test, num_classes)\n",
    "\n",
    "train_generator = train_datagen.flow(\n",
    "    x_train, y_train_onehot, \n",
    "    batch_size=batch_size)\n",
    "\n",
    "validation_generator = test_datagen.flow(\n",
    "    x_test, y_test_onehot, \n",
    "    batch_size=batch_size,\n",
    "    shuffle=False)\n",
    "\n",
    "model_store = \"/cpu:0\"\n",
    "with tf.device(model_store):\n",
    "    img_input = Input(shape = input_shape)\n",
    "    conv1 = Conv2D(32, kernel_size=(3, 3))(img_input)\n",
    "    bn1 = BatchNormalization(axis=bn_axis)(conv1)\n",
    "    act1 = Activation(\"relu\")(bn1)\n",
    "    conv2 = Conv2D(64, (3, 3))(act1)\n",
    "    bn2 = BatchNormalization(axis=bn_axis)(conv2)\n",
    "    act2 = Activation(\"relu\")(bn2)\n",
    "    pool2 = MaxPooling2D(pool_size=(2, 2))(act2)\n",
    "    drop2 = Dropout(0.25)(pool2)\n",
    "    flat2 = Flatten()(drop2)\n",
    "    dense3 = Dense(128, activation='relu')(flat2)\n",
    "    drop3 = Dropout(0.5)(dense3)\n",
    "    output = Dense(num_classes, activation='softmax')(drop3)\n",
    "    \n",
    "    base_model = Model( inputs = img_input, outputs = output)\n",
    "    \n",
    "\n",
    "model = multi_gpu_model(base_model, gpus=num_gpu)\n",
    "\n",
    "model.compile(loss=keras.losses.categorical_crossentropy,\n",
    "              optimizer=keras.optimizers.Adadelta(),\n",
    "              metrics=['accuracy'])\n",
    "\n",
    "model.fit_generator(train_generator,\n",
    "                    steps_per_epoch=nb_train_samples // batch_size,\n",
    "          epochs=epochs,\n",
    "          verbose=1,\n",
    "          validation_data=validation_generator,\n",
    "          validation_steps=nb_train_samples // batch_size,\n",
    "                    initial_epoch = 0\n",
    "         )\n"
   ]
  },
  {
   "cell_type": "code",
   "execution_count": null,
   "metadata": {},
   "outputs": [],
   "source": [
    "score = model.evaluate_generator(validation_generator)\n",
    "print('Test loss:', score[0])\n",
    "print('Test accuracy:', score[1])\n",
    "res = model.predict_generator(validation_generator)"
   ]
  },
  {
   "cell_type": "code",
   "execution_count": null,
   "metadata": {},
   "outputs": [],
   "source": [
    "import numpy as np\n",
    "tt = np.array([0]*10)\n",
    "tf = np.array([0]*10)\n",
    "ft = np.array([0]*10)\n",
    "ff = np.array([0]*10)\n",
    "pred= np.argmax(res,axis=1)\n",
    "for i in range(len(y_test)):\n",
    "    # print(str(pred[i])+\"/\"+str(validation_generator.classes[i]))\n",
    "    for j in range(10):\n",
    "        actc = str(j)\n",
    "        if str(y_test[i])==actc:\n",
    "            if str(pred[i]) == actc:\n",
    "                tt[j]+=1\n",
    "            else:\n",
    "                tf[j]+=1\n",
    "        else:\n",
    "            if str(pred[i]) == actc:\n",
    "                ft[j]+=1\n",
    "            else:\n",
    "                ff[j]+=1"
   ]
  },
  {
   "cell_type": "code",
   "execution_count": null,
   "metadata": {},
   "outputs": [],
   "source": [
    "from sklearn.metrics import *\n",
    "print(pred )\n",
    "cnf_matrix = confusion_matrix(y_test, pred)"
   ]
  },
  {
   "cell_type": "code",
   "execution_count": null,
   "metadata": {},
   "outputs": [],
   "source": [
    "import sys\n",
    "sys.path.append(\"../utils\")\n",
    "from confusion import *\n",
    "plot_confusion_matrix(cnf_matrix, [str(i+1) for i in range(10)],normalize=True)"
   ]
  },
  {
   "cell_type": "code",
   "execution_count": null,
   "metadata": {},
   "outputs": [],
   "source": []
  }
 ],
 "metadata": {
  "kernelspec": {
   "display_name": "Python 3",
   "language": "python",
   "name": "python3"
  },
  "language_info": {
   "codemirror_mode": {
    "name": "ipython",
    "version": 3
   },
   "file_extension": ".py",
   "mimetype": "text/x-python",
   "name": "python",
   "nbconvert_exporter": "python",
   "pygments_lexer": "ipython3",
   "version": "3.5.2"
  }
 },
 "nbformat": 4,
 "nbformat_minor": 2
}
