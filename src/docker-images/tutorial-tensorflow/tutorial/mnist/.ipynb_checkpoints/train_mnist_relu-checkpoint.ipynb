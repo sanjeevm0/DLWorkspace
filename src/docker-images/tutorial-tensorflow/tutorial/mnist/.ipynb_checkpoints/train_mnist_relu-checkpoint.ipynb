{
 "cells": [
  {
   "cell_type": "code",
   "execution_count": 1,
   "metadata": {
    "scrolled": true
   },
   "outputs": [
    {
     "name": "stderr",
     "output_type": "stream",
     "text": [
      "/usr/local/lib/python3.5/dist-packages/h5py/__init__.py:36: FutureWarning: Conversion of the second argument of issubdtype from `float` to `np.floating` is deprecated. In future, it will be treated as `np.float64 == np.dtype(float).type`.\n",
      "  from ._conv import register_converters as _register_converters\n",
      "Using TensorFlow backend.\n"
     ]
    },
    {
     "name": "stdout",
     "output_type": "stream",
     "text": [
      "[name: \"/device:CPU:0\"\n",
      "device_type: \"CPU\"\n",
      "memory_limit: 268435456\n",
      "locality {\n",
      "}\n",
      "incarnation: 15356718807057506252\n",
      ", name: \"/device:GPU:0\"\n",
      "device_type: \"GPU\"\n",
      "memory_limit: 11987822183\n",
      "locality {\n",
      "  bus_id: 1\n",
      "  links {\n",
      "  }\n",
      "}\n",
      "incarnation: 7629643111121329965\n",
      "physical_device_desc: \"device: 0, name: GeForce GTX TITAN X, pci bus id: 0000:04:00.0, compute capability: 5.2\"\n",
      "]\n"
     ]
    },
    {
     "data": {
      "text/plain": [
       "<Figure size 640x480 with 9 Axes>"
      ]
     },
     "metadata": {},
     "output_type": "display_data"
    }
   ],
   "source": [
    "'''Trains a simple convnet on the MNIST dataset.\n",
    "\n",
    "Gets to 99.25% test accuracy after 28 epochs\n",
    "'''\n",
    "\n",
    "from __future__ import print_function\n",
    "import keras\n",
    "from keras.datasets import mnist\n",
    "from keras.models import Sequential\n",
    "from keras.layers import Dense, Dropout, Flatten\n",
    "from keras.layers import Conv2D, MaxPooling2D\n",
    "from keras import backend as K\n",
    "from keras.preprocessing.image import ImageDataGenerator\n",
    "from matplotlib import pyplot\n",
    "import tensorflow as tf\n",
    "sess = tf.Session(config=tf.ConfigProto(log_device_placement=True))\n",
    "from tensorflow.python.client import device_lib\n",
    "print(device_lib.list_local_devices())\n",
    "\n",
    "batch_size = 128\n",
    "num_classes = 10\n",
    "epochs = 200\n",
    "\n",
    "# input image dimensions\n",
    "img_rows, img_cols = 28, 28\n",
    "\n",
    "# the data, shuffled and split between train and test sets\n",
    "(x_train, y_train), (x_test, y_test) = mnist.load_data()\n",
    "\n",
    "# create a grid of 3x3 images\n",
    "for i in range(0, 9):\n",
    "    pyplot.subplot(330 + 1 + i)\n",
    "    pyplot.imshow(x_train[i], cmap=pyplot.get_cmap('gray'))\n",
    "    \n",
    "# show the plot\n",
    "pyplot.show()"
   ]
  },
  {
   "cell_type": "code",
   "execution_count": 2,
   "metadata": {},
   "outputs": [
    {
     "data": {
      "image/png": "[encoded data removed]",
      "text/plain": [
       "<Figure size 432x288 with 9 Axes>"
      ]
     },
     "metadata": {},
     "output_type": "display_data"
    }
   ],
   "source": [
    "if K.image_data_format() == 'channels_first':\n",
    "    x_train = x_train.reshape(x_train.shape[0], 1, img_rows, img_cols)\n",
    "    x_test = x_test.reshape(x_test.shape[0], 1, img_rows, img_cols)\n",
    "    input_shape = (1, img_rows, img_cols)\n",
    "else:\n",
    "    x_train = x_train.reshape(x_train.shape[0], img_rows, img_cols, 1)\n",
    "    x_test = x_test.reshape(x_test.shape[0], img_rows, img_cols, 1)\n",
    "    input_shape = (img_rows, img_cols, 1)\n",
    "\n",
    "nb_train_samples = x_train.shape[0]\n",
    "nb_test_samples = x_test.shape[0]\n",
    "\n",
    "# define data preparation\n",
    "train_datagen_rand = ImageDataGenerator(\n",
    "    rescale=1. / 255.,\n",
    "    rotation_range=20,\n",
    "    width_shift_range=0.2,\n",
    "    height_shift_range=0.2 )\n",
    "\n",
    "train_datagen = ImageDataGenerator( rescale=1. / 255. )\n",
    "\n",
    "test_datagen = ImageDataGenerator(\n",
    "    rescale = 1./255.)\n",
    "\n",
    "# fit parameters from data\n",
    "train_datagen.fit(x_train)\n",
    "test_datagen.fit(x_test)\n",
    "# configure batch size and retrieve one batch of images\n",
    "for x_batch, y_batch in train_datagen.flow(x_train, y_train, batch_size=9):\n",
    "    # create a grid of 3x3 images\n",
    "    for i in range(0, 9):\n",
    "        pyplot.subplot(330 + 1 + i)\n",
    "        pyplot.imshow(x_batch[i].reshape(28, 28), cmap=pyplot.get_cmap('gray'))\n",
    "    # show the plot\n",
    "    pyplot.show()\n",
    "    break\n",
    "    "
   ]
  },
  {
   "cell_type": "code",
   "execution_count": 3,
   "metadata": {},
   "outputs": [
    {
     "name": "stdout",
     "output_type": "stream",
     "text": [
      "Epoch 1/30\n",
      "468/468 [==============================] - 11s 23ms/step - loss: 0.2612 - acc: 0.9192 - val_loss: 0.0567 - val_acc: 0.9823\n",
      "Epoch 2/30\n",
      "468/468 [==============================] - 8s 18ms/step - loss: 0.0911 - acc: 0.9724 - val_loss: 0.0400 - val_acc: 0.9864\n",
      "Epoch 3/30\n",
      "468/468 [==============================] - 9s 18ms/step - loss: 0.0660 - acc: 0.9801 - val_loss: 0.0317 - val_acc: 0.9898\n",
      "Epoch 4/30\n",
      "468/468 [==============================] - 8s 18ms/step - loss: 0.0536 - acc: 0.9843 - val_loss: 0.0282 - val_acc: 0.9896\n",
      "Epoch 5/30\n",
      "468/468 [==============================] - 8s 18ms/step - loss: 0.0472 - acc: 0.9858 - val_loss: 0.0280 - val_acc: 0.9904\n",
      "Epoch 6/30\n",
      "468/468 [==============================] - 9s 18ms/step - loss: 0.0414 - acc: 0.9876 - val_loss: 0.0288 - val_acc: 0.9904\n",
      "Epoch 7/30\n",
      "468/468 [==============================] - 8s 18ms/step - loss: 0.0360 - acc: 0.9892 - val_loss: 0.0268 - val_acc: 0.9908\n",
      "Epoch 8/30\n",
      "468/468 [==============================] - 8s 18ms/step - loss: 0.0338 - acc: 0.9897 - val_loss: 0.0250 - val_acc: 0.9911\n",
      "Epoch 9/30\n",
      "468/468 [==============================] - 9s 19ms/step - loss: 0.0301 - acc: 0.9908 - val_loss: 0.0252 - val_acc: 0.9922\n",
      "Epoch 10/30\n",
      "468/468 [==============================] - 8s 18ms/step - loss: 0.0292 - acc: 0.9910 - val_loss: 0.0261 - val_acc: 0.9913\n",
      "Epoch 11/30\n",
      "468/468 [==============================] - 8s 18ms/step - loss: 0.0266 - acc: 0.9916 - val_loss: 0.0254 - val_acc: 0.9926\n",
      "Epoch 12/30\n",
      "468/468 [==============================] - 9s 18ms/step - loss: 0.0257 - acc: 0.9920 - val_loss: 0.0238 - val_acc: 0.9920\n",
      "Epoch 13/30\n",
      "468/468 [==============================] - 9s 19ms/step - loss: 0.0231 - acc: 0.9927 - val_loss: 0.0252 - val_acc: 0.9918\n",
      "Epoch 14/30\n",
      "468/468 [==============================] - 8s 18ms/step - loss: 0.0235 - acc: 0.9927 - val_loss: 0.0243 - val_acc: 0.9923\n",
      "Epoch 15/30\n",
      "468/468 [==============================] - 8s 18ms/step - loss: 0.0219 - acc: 0.9933 - val_loss: 0.0256 - val_acc: 0.9926\n",
      "Epoch 16/30\n",
      "468/468 [==============================] - 8s 18ms/step - loss: 0.0208 - acc: 0.9934 - val_loss: 0.0243 - val_acc: 0.9918\n",
      "Epoch 17/30\n",
      "468/468 [==============================] - 8s 18ms/step - loss: 0.0202 - acc: 0.9938 - val_loss: 0.0281 - val_acc: 0.9926\n",
      "Epoch 18/30\n",
      "468/468 [==============================] - 8s 17ms/step - loss: 0.0200 - acc: 0.9937 - val_loss: 0.0254 - val_acc: 0.9929\n",
      "Epoch 19/30\n",
      "468/468 [==============================] - 9s 18ms/step - loss: 0.0200 - acc: 0.9936 - val_loss: 0.0241 - val_acc: 0.9928\n",
      "Epoch 20/30\n",
      "468/468 [==============================] - 8s 18ms/step - loss: 0.0177 - acc: 0.9942 - val_loss: 0.0253 - val_acc: 0.9922\n",
      "Epoch 21/30\n",
      "468/468 [==============================] - 8s 17ms/step - loss: 0.0184 - acc: 0.9946 - val_loss: 0.0261 - val_acc: 0.9925\n",
      "Epoch 22/30\n",
      "468/468 [==============================] - 9s 19ms/step - loss: 0.0160 - acc: 0.9953 - val_loss: 0.0273 - val_acc: 0.9932\n",
      "Epoch 23/30\n",
      "468/468 [==============================] - 9s 18ms/step - loss: 0.0176 - acc: 0.9944 - val_loss: 0.0260 - val_acc: 0.9925\n",
      "Epoch 24/30\n",
      "468/468 [==============================] - 9s 18ms/step - loss: 0.0175 - acc: 0.9947 - val_loss: 0.0263 - val_acc: 0.9931\n",
      "Epoch 25/30\n",
      "468/468 [==============================] - 8s 17ms/step - loss: 0.0173 - acc: 0.9946 - val_loss: 0.0277 - val_acc: 0.9933\n",
      "Epoch 26/30\n",
      "468/468 [==============================] - 8s 18ms/step - loss: 0.0159 - acc: 0.9950 - val_loss: 0.0289 - val_acc: 0.9922\n",
      "Epoch 27/30\n",
      "468/468 [==============================] - 9s 19ms/step - loss: 0.0155 - acc: 0.9947 - val_loss: 0.0279 - val_acc: 0.9925\n",
      "Epoch 28/30\n",
      "468/468 [==============================] - 8s 18ms/step - loss: 0.0150 - acc: 0.9955 - val_loss: 0.0287 - val_acc: 0.9925\n",
      "Epoch 29/30\n",
      "468/468 [==============================] - 8s 17ms/step - loss: 0.0137 - acc: 0.9957 - val_loss: 0.0268 - val_acc: 0.9938\n",
      "Epoch 30/30\n",
      "468/468 [==============================] - 8s 18ms/step - loss: 0.0157 - acc: 0.9952 - val_loss: 0.0289 - val_acc: 0.9919\n"
     ]
    },
    {
     "data": {
      "text/plain": [
       "<keras.callbacks.History at 0x7fc90c07b780>"
      ]
     },
     "execution_count": 3,
     "metadata": {},
     "output_type": "execute_result"
    }
   ],
   "source": [
    "batch_size = 128\n",
    "epochs = 30\n",
    "\n",
    "# convert class vectors to binary class matrices\n",
    "y_train_onehot = keras.utils.to_categorical(y_train, num_classes)\n",
    "x_test_norm = x_test/255.\n",
    "y_test_onehot = keras.utils.to_categorical(y_test, num_classes)\n",
    "\n",
    "train_generator = train_datagen.flow(\n",
    "    x_train, y_train_onehot, \n",
    "    batch_size=batch_size)\n",
    "\n",
    "validation_generator = test_datagen.flow(\n",
    "    x_test, y_test_onehot, \n",
    "    batch_size=batch_size,\n",
    "    shuffle=False)\n",
    "\n",
    "model = Sequential()\n",
    "model.add(Conv2D(32, kernel_size=(3, 3),\n",
    "                 activation='relu',\n",
    "                 input_shape=input_shape))\n",
    "model.add(Conv2D(64, (3, 3), activation='relu'))\n",
    "model.add(MaxPooling2D(pool_size=(2, 2)))\n",
    "model.add(Dropout(0.25))\n",
    "model.add(Flatten())\n",
    "model.add(Dense(128, activation='relu'))\n",
    "model.add(Dropout(0.5))\n",
    "model.add(Dense(num_classes, activation='softmax'))\n",
    "\n",
    "model.compile(loss=keras.losses.categorical_crossentropy,\n",
    "              optimizer=keras.optimizers.Adadelta(),\n",
    "              metrics=['accuracy'])\n",
    "\n",
    "model.fit_generator(train_generator,\n",
    "                    steps_per_epoch=nb_train_samples // batch_size,\n",
    "          epochs=epochs,\n",
    "          verbose=1,\n",
    "          validation_data=validation_generator,\n",
    "          validation_steps=nb_train_samples // batch_size,\n",
    "                    initial_epoch = 0\n",
    "         )\n"
   ]
  },
  {
   "cell_type": "code",
   "execution_count": 4,
   "metadata": {},
   "outputs": [
    {
     "name": "stdout",
     "output_type": "stream",
     "text": [
      "Test loss: 0.0289896857076325\n",
      "Test accuracy: 0.9919\n"
     ]
    }
   ],
   "source": [
    "score = model.evaluate_generator(validation_generator)\n",
    "print('Test loss:', score[0])\n",
    "print('Test accuracy:', score[1])\n",
    "res = model.predict_generator(validation_generator)"
   ]
  },
  {
   "cell_type": "code",
   "execution_count": 7,
   "metadata": {},
   "outputs": [],
   "source": [
    "import numpy as np\n",
    "tt = np.array([0]*10)\n",
    "tf = np.array([0]*10)\n",
    "ft = np.array([0]*10)\n",
    "ff = np.array([0]*10)\n",
    "pred= np.argmax(res,axis=1)\n",
    "for i in range(len(y_test)):\n",
    "    # print(str(pred[i])+\"/\"+str(validation_generator.classes[i]))\n",
    "    for j in range(10):\n",
    "        actc = str(j)\n",
    "        if str(y_test[i])==actc:\n",
    "            if str(pred[i]) == actc:\n",
    "                tt[j]+=1\n",
    "            else:\n",
    "                tf[j]+=1\n",
    "        else:\n",
    "            if str(pred[i]) == actc:\n",
    "                ft[j]+=1\n",
    "            else:\n",
    "                ff[j]+=1"
   ]
  },
  {
   "cell_type": "code",
   "execution_count": 9,
   "metadata": {},
   "outputs": [
    {
     "name": "stdout",
     "output_type": "stream",
     "text": [
      "[7 2 1 ... 4 5 6]\n"
     ]
    }
   ],
   "source": [
    "from sklearn.metrics import *\n",
    "print(pred )\n",
    "cnf_matrix = confusion_matrix(y_test, pred)"
   ]
  },
  {
   "cell_type": "code",
   "execution_count": 12,
   "metadata": {},
   "outputs": [
    {
     "ename": "NameError",
     "evalue": "name 'classes' is not defined",
     "output_type": "error",
     "traceback": [
      "\u001b[0;31m---------------------------------------------------------------------------\u001b[0m",
      "\u001b[0;31mNameError\u001b[0m                                 Traceback (most recent call last)",
      "\u001b[0;32m<ipython-input-12-a2bed7623a58>\u001b[0m in \u001b[0;36m<module>\u001b[0;34m()\u001b[0m\n\u001b[1;32m      2\u001b[0m \u001b[0msys\u001b[0m\u001b[0;34m.\u001b[0m\u001b[0mpath\u001b[0m\u001b[0;34m.\u001b[0m\u001b[0mappend\u001b[0m\u001b[0;34m(\u001b[0m\u001b[0;34m\"../utils\"\u001b[0m\u001b[0;34m)\u001b[0m\u001b[0;34m\u001b[0m\u001b[0m\n\u001b[1;32m      3\u001b[0m \u001b[0;32mfrom\u001b[0m \u001b[0mconfusion\u001b[0m \u001b[0;32mimport\u001b[0m \u001b[0;34m*\u001b[0m\u001b[0;34m\u001b[0m\u001b[0m\n\u001b[0;32m----> 4\u001b[0;31m \u001b[0mplot_confusion_matrix\u001b[0m\u001b[0;34m(\u001b[0m\u001b[0mcnf_matrix\u001b[0m\u001b[0;34m,\u001b[0m \u001b[0mclasses\u001b[0m\u001b[0;34m,\u001b[0m\u001b[0mnormalize\u001b[0m\u001b[0;34m=\u001b[0m\u001b[0;32mTrue\u001b[0m\u001b[0;34m)\u001b[0m\u001b[0;34m\u001b[0m\u001b[0m\n\u001b[0m",
      "\u001b[0;31mNameError\u001b[0m: name 'classes' is not defined"
     ]
    }
   ],
   "source": [
    "import sys\n",
    "sys.path.append(\"../utils\")\n",
    "from confusion import *\n",
    "plot_confusion_matrix(cnf_matrix, [str(i+1) for i in range(10)],normalize=True)"
   ]
  },
  {
   "cell_type": "code",
   "execution_count": null,
   "metadata": {},
   "outputs": [],
   "source": []
  }
 ],
 "metadata": {
  "kernelspec": {
   "display_name": "Python 3",
   "language": "python",
   "name": "python3"
  },
  "language_info": {
   "codemirror_mode": {
    "name": "ipython",
    "version": 3
   },
   "file_extension": ".py",
   "mimetype": "text/x-python",
   "name": "python",
   "nbconvert_exporter": "python",
   "pygments_lexer": "ipython3",
   "version": "3.5.2"
  }
 },
 "nbformat": 4,
 "nbformat_minor": 2
}
