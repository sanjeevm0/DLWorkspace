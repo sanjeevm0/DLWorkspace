{
 "cells": [
  {
   "cell_type": "code",
   "execution_count": 1,
   "metadata": {
    "scrolled": true
   },
   "outputs": [
    {
     "name": "stderr",
     "output_type": "stream",
     "text": [
      "/usr/local/lib/python3.5/dist-packages/h5py/__init__.py:36: FutureWarning: Conversion of the second argument of issubdtype from `float` to `np.floating` is deprecated. In future, it will be treated as `np.float64 == np.dtype(float).type`.\n",
      "  from ._conv import register_converters as _register_converters\n",
      "Using TensorFlow backend.\n"
     ]
    },
    {
     "name": "stdout",
     "output_type": "stream",
     "text": [
      "[name: \"/device:CPU:0\"\n",
      "device_type: \"CPU\"\n",
      "memory_limit: 268435456\n",
      "locality {\n",
      "}\n",
      "incarnation: 7307013709747136391\n",
      ", name: \"/device:GPU:0\"\n",
      "device_type: \"GPU\"\n",
      "memory_limit: 11987822183\n",
      "locality {\n",
      "  bus_id: 1\n",
      "  links {\n",
      "    link {\n",
      "      device_id: 1\n",
      "      type: \"StreamExecutor\"\n",
      "      strength: 1\n",
      "    }\n",
      "  }\n",
      "}\n",
      "incarnation: 10686322836204934166\n",
      "physical_device_desc: \"device: 0, name: GeForce GTX TITAN X, pci bus id: 0000:05:00.0, compute capability: 5.2\"\n",
      ", name: \"/device:GPU:1\"\n",
      "device_type: \"GPU\"\n",
      "memory_limit: 11987822183\n",
      "locality {\n",
      "  bus_id: 1\n",
      "  links {\n",
      "    link {\n",
      "      type: \"StreamExecutor\"\n",
      "      strength: 1\n",
      "    }\n",
      "  }\n",
      "}\n",
      "incarnation: 15097088319365676168\n",
      "physical_device_desc: \"device: 1, name: GeForce GTX TITAN X, pci bus id: 0000:08:00.0, compute capability: 5.2\"\n",
      "]\n"
     ]
    },
    {
     "data": {
      "text/plain": [
       "<Figure size 640x480 with 9 Axes>"
      ]
     },
     "metadata": {},
     "output_type": "display_data"
    }
   ],
   "source": [
    "'''Trains a simple convnet on the MNIST dataset.\n",
    "\n",
    "Gets to 99.25% test accuracy after 28 epochs\n",
    "'''\n",
    "\n",
    "from __future__ import print_function\n",
    "import keras\n",
    "from keras.datasets import mnist\n",
    "from keras.models import Sequential, Model\n",
    "from keras.layers import Dense, Dropout, Flatten, Activation, BatchNormalization, Input, Concatenate\n",
    "from keras.layers import Conv2D, MaxPooling2D\n",
    "from keras import backend as K\n",
    "from keras.preprocessing.image import ImageDataGenerator\n",
    "from keras.utils import multi_gpu_model\n",
    "from matplotlib import pyplot\n",
    "import tensorflow as tf\n",
    "sess = tf.Session(config=tf.ConfigProto(log_device_placement=True))\n",
    "from tensorflow.python.client import device_lib\n",
    "print(device_lib.list_local_devices())\n",
    "\n",
    "batch_size = 128\n",
    "num_classes = 10\n",
    "epochs = 200\n",
    "\n",
    "# input image dimensions\n",
    "img_rows, img_cols = 28, 28\n",
    "\n",
    "# the data, shuffled and split between train and test sets\n",
    "(x_train, y_train), (x_test, y_test) = mnist.load_data()\n",
    "\n",
    "# create a grid of 3x3 images\n",
    "for i in range(0, 9):\n",
    "    pyplot.subplot(330 + 1 + i)\n",
    "    pyplot.imshow(x_train[i], cmap=pyplot.get_cmap('gray'))\n",
    "    \n",
    "# show the plot\n",
    "pyplot.show()"
   ]
  },
  {
   "cell_type": "code",
   "execution_count": 2,
   "metadata": {},
   "outputs": [
    {
     "data": {
      "image/png": "[encoded data removed]",
      "text/plain": [
       "<Figure size 432x288 with 9 Axes>"
      ]
     },
     "metadata": {},
     "output_type": "display_data"
    }
   ],
   "source": [
    "if K.image_data_format() == 'channels_first':\n",
    "    x_train = x_train.reshape(x_train.shape[0], 1, img_rows, img_cols)\n",
    "    x_test = x_test.reshape(x_test.shape[0], 1, img_rows, img_cols)\n",
    "    input_shape = (1, img_rows, img_cols)\n",
    "    bn_axis = 1\n",
    "else:\n",
    "    x_train = x_train.reshape(x_train.shape[0], img_rows, img_cols, 1)\n",
    "    x_test = x_test.reshape(x_test.shape[0], img_rows, img_cols, 1)\n",
    "    input_shape = (img_rows, img_cols, 1)\n",
    "    bn_axis = 3\n",
    "\n",
    "nb_train_samples = x_train.shape[0]\n",
    "nb_test_samples = x_test.shape[0]\n",
    "\n",
    "# define data preparation\n",
    "train_datagen_rand = ImageDataGenerator(\n",
    "    rescale=1. / 255.,\n",
    "    rotation_range=20,\n",
    "    width_shift_range=0.2,\n",
    "    height_shift_range=0.2 )\n",
    "\n",
    "train_datagen = ImageDataGenerator( rescale=1. / 255. )\n",
    "\n",
    "test_datagen = ImageDataGenerator(\n",
    "    rescale = 1./255.)\n",
    "\n",
    "# fit parameters from data\n",
    "train_datagen.fit(x_train)\n",
    "test_datagen.fit(x_test)\n",
    "# configure batch size and retrieve one batch of images\n",
    "for x_batch, y_batch in train_datagen.flow(x_train, y_train, batch_size=9):\n",
    "    # create a grid of 3x3 images\n",
    "    for i in range(0, 9):\n",
    "        pyplot.subplot(330 + 1 + i)\n",
    "        pyplot.imshow(x_batch[i].reshape(28, 28), cmap=pyplot.get_cmap('gray'))\n",
    "    # show the plot\n",
    "    pyplot.show()\n",
    "    break\n",
    "    "
   ]
  },
  {
   "cell_type": "code",
   "execution_count": 3,
   "metadata": {},
   "outputs": [
    {
     "name": "stdout",
     "output_type": "stream",
     "text": [
      "Epoch 1/30\n",
      "468/468 [==============================] - 14s 30ms/step - loss: 0.5688 - acc: 0.8308 - val_loss: 0.0799 - val_acc: 0.9761\n",
      "Epoch 2/30\n",
      "468/468 [==============================] - 10s 21ms/step - loss: 0.1807 - acc: 0.9478 - val_loss: 0.0663 - val_acc: 0.9789\n",
      "Epoch 3/30\n",
      "468/468 [==============================] - 10s 21ms/step - loss: 0.1297 - acc: 0.9633 - val_loss: 0.0435 - val_acc: 0.9860\n",
      "Epoch 4/30\n",
      "468/468 [==============================] - 10s 21ms/step - loss: 0.1085 - acc: 0.9688 - val_loss: 0.0445 - val_acc: 0.9874\n",
      "Epoch 5/30\n",
      "468/468 [==============================] - 10s 21ms/step - loss: 0.0961 - acc: 0.9723 - val_loss: 0.0407 - val_acc: 0.9865\n",
      "Epoch 6/30\n",
      "468/468 [==============================] - 10s 21ms/step - loss: 0.0867 - acc: 0.9750 - val_loss: 0.0392 - val_acc: 0.9883\n",
      "Epoch 7/30\n",
      "468/468 [==============================] - 10s 21ms/step - loss: 0.0817 - acc: 0.9770 - val_loss: 0.0354 - val_acc: 0.9889\n",
      "Epoch 8/30\n",
      "468/468 [==============================] - 10s 21ms/step - loss: 0.0773 - acc: 0.9785 - val_loss: 0.0353 - val_acc: 0.9890\n",
      "Epoch 9/30\n",
      "468/468 [==============================] - 10s 21ms/step - loss: 0.0749 - acc: 0.9785 - val_loss: 0.0398 - val_acc: 0.9886\n",
      "Epoch 10/30\n",
      "468/468 [==============================] - 10s 21ms/step - loss: 0.0675 - acc: 0.9800 - val_loss: 0.0379 - val_acc: 0.9889\n",
      "Epoch 11/30\n",
      "468/468 [==============================] - 10s 21ms/step - loss: 0.0659 - acc: 0.9801 - val_loss: 0.0366 - val_acc: 0.9891\n",
      "Epoch 12/30\n",
      "468/468 [==============================] - 10s 21ms/step - loss: 0.0643 - acc: 0.9814 - val_loss: 0.0331 - val_acc: 0.9911\n",
      "Epoch 13/30\n",
      "468/468 [==============================] - 10s 21ms/step - loss: 0.0591 - acc: 0.9829 - val_loss: 0.0303 - val_acc: 0.9905\n",
      "Epoch 14/30\n",
      "468/468 [==============================] - 10s 21ms/step - loss: 0.0615 - acc: 0.9822 - val_loss: 0.0361 - val_acc: 0.9899\n",
      "Epoch 15/30\n",
      "468/468 [==============================] - 10s 21ms/step - loss: 0.0580 - acc: 0.9829 - val_loss: 0.0402 - val_acc: 0.9888\n",
      "Epoch 16/30\n",
      "468/468 [==============================] - 10s 21ms/step - loss: 0.0567 - acc: 0.9836 - val_loss: 0.0342 - val_acc: 0.9911\n",
      "Epoch 17/30\n",
      "468/468 [==============================] - 10s 21ms/step - loss: 0.0558 - acc: 0.9839 - val_loss: 0.0288 - val_acc: 0.9915\n",
      "Epoch 18/30\n",
      "468/468 [==============================] - 10s 21ms/step - loss: 0.0548 - acc: 0.9835 - val_loss: 0.0305 - val_acc: 0.9912\n",
      "Epoch 19/30\n",
      "468/468 [==============================] - 10s 21ms/step - loss: 0.0538 - acc: 0.9842 - val_loss: 0.0328 - val_acc: 0.9912\n",
      "Epoch 20/30\n",
      "468/468 [==============================] - 10s 21ms/step - loss: 0.0552 - acc: 0.9846 - val_loss: 0.0367 - val_acc: 0.9895\n",
      "Epoch 21/30\n",
      "468/468 [==============================] - 10s 21ms/step - loss: 0.0540 - acc: 0.9848 - val_loss: 0.0357 - val_acc: 0.9893\n",
      "Epoch 22/30\n",
      "468/468 [==============================] - 10s 21ms/step - loss: 0.0511 - acc: 0.9852 - val_loss: 0.0355 - val_acc: 0.9901\n",
      "Epoch 23/30\n",
      "468/468 [==============================] - 10s 21ms/step - loss: 0.0497 - acc: 0.9857 - val_loss: 0.0422 - val_acc: 0.9876\n",
      "Epoch 24/30\n",
      "468/468 [==============================] - 10s 21ms/step - loss: 0.0487 - acc: 0.9857 - val_loss: 0.0355 - val_acc: 0.9904\n",
      "Epoch 25/30\n",
      "468/468 [==============================] - 10s 21ms/step - loss: 0.0485 - acc: 0.9860 - val_loss: 0.0425 - val_acc: 0.9895\n",
      "Epoch 26/30\n",
      "468/468 [==============================] - 10s 21ms/step - loss: 0.0463 - acc: 0.9864 - val_loss: 0.0373 - val_acc: 0.9911\n",
      "Epoch 27/30\n",
      "468/468 [==============================] - 10s 21ms/step - loss: 0.0432 - acc: 0.9870 - val_loss: 0.0373 - val_acc: 0.9907\n",
      "Epoch 28/30\n",
      "468/468 [==============================] - 10s 21ms/step - loss: 0.0487 - acc: 0.9858 - val_loss: 0.0331 - val_acc: 0.9904\n",
      "Epoch 29/30\n",
      "468/468 [==============================] - 10s 21ms/step - loss: 0.0471 - acc: 0.9869 - val_loss: 0.0354 - val_acc: 0.9903\n",
      "Epoch 30/30\n",
      "468/468 [==============================] - 10s 21ms/step - loss: 0.0466 - acc: 0.9865 - val_loss: 0.0374 - val_acc: 0.9903\n"
     ]
    },
    {
     "data": {
      "text/plain": [
       "<keras.callbacks.History at 0x7f34e428ec18>"
      ]
     },
     "execution_count": 3,
     "metadata": {},
     "output_type": "execute_result"
    }
   ],
   "source": [
    "batch_size = 128\n",
    "epochs = 30\n",
    "num_gpu = 2\n",
    "\n",
    "# convert class vectors to binary class matrices\n",
    "y_train_onehot = keras.utils.to_categorical(y_train, num_classes)\n",
    "x_test_norm = x_test/255.\n",
    "y_test_onehot = keras.utils.to_categorical(y_test, num_classes)\n",
    "\n",
    "train_generator = train_datagen.flow(\n",
    "    x_train, y_train_onehot, \n",
    "    batch_size=batch_size)\n",
    "\n",
    "validation_generator = test_datagen.flow(\n",
    "    x_test, y_test_onehot, \n",
    "    batch_size=batch_size,\n",
    "    shuffle=False)\n",
    "\n",
    "model_store = \"/cpu:0\"\n",
    "with tf.device(model_store):\n",
    "    img_input = Input(shape = input_shape)\n",
    "    conv1 = Conv2D(32, kernel_size=(3, 3), padding = \"same\")(img_input)\n",
    "    bn1 = BatchNormalization(axis=bn_axis)(conv1)\n",
    "    act1 = Activation(\"relu\")(bn1)\n",
    "    conv2 = Conv2D(64, (3, 3), padding = \"same\")(act1)\n",
    "    dense2 = Concatenate( axis=bn_axis)([conv2, conv1])\n",
    "    bn2 = BatchNormalization(axis=bn_axis)(conv2)\n",
    "    act2 = Activation(\"relu\")(bn2)\n",
    "    pool2 = MaxPooling2D(pool_size=(2, 2))(act2)\n",
    "    drop2 = Dropout(0.25)(pool2)\n",
    "    flat2 = Flatten()(drop2)\n",
    "    dense3 = Dense(128, activation='relu')(flat2)\n",
    "    drop3 = Dropout(0.5)(dense3)\n",
    "    output = Dense(num_classes, activation='softmax')(drop3)\n",
    "    \n",
    "    base_model = Model( inputs = img_input, outputs = output)\n",
    "    \n",
    "\n",
    "model = multi_gpu_model(base_model, gpus=num_gpu)\n",
    "\n",
    "model.compile(loss=keras.losses.categorical_crossentropy,\n",
    "              optimizer=keras.optimizers.Adadelta(),\n",
    "              metrics=['accuracy'])\n",
    "\n",
    "model.fit_generator(train_generator,\n",
    "                    steps_per_epoch=nb_train_samples // batch_size,\n",
    "          epochs=epochs,\n",
    "          verbose=1,\n",
    "          validation_data=validation_generator,\n",
    "          validation_steps=nb_train_samples // batch_size,\n",
    "                    initial_epoch = 0\n",
    "         )\n"
   ]
  },
  {
   "cell_type": "code",
   "execution_count": 4,
   "metadata": {},
   "outputs": [
    {
     "name": "stdout",
     "output_type": "stream",
     "text": [
      "Test loss: 0.03779587302723144\n",
      "Test accuracy: 0.9902\n"
     ]
    }
   ],
   "source": [
    "score = model.evaluate_generator(validation_generator)\n",
    "print('Test loss:', score[0])\n",
    "print('Test accuracy:', score[1])\n",
    "res = model.predict_generator(validation_generator)"
   ]
  },
  {
   "cell_type": "code",
   "execution_count": 5,
   "metadata": {},
   "outputs": [],
   "source": [
    "import numpy as np\n",
    "tt = np.array([0]*10)\n",
    "tf = np.array([0]*10)\n",
    "ft = np.array([0]*10)\n",
    "ff = np.array([0]*10)\n",
    "pred= np.argmax(res,axis=1)\n",
    "for i in range(len(y_test)):\n",
    "    # print(str(pred[i])+\"/\"+str(validation_generator.classes[i]))\n",
    "    for j in range(10):\n",
    "        actc = str(j)\n",
    "        if str(y_test[i])==actc:\n",
    "            if str(pred[i]) == actc:\n",
    "                tt[j]+=1\n",
    "            else:\n",
    "                tf[j]+=1\n",
    "        else:\n",
    "            if str(pred[i]) == actc:\n",
    "                ft[j]+=1\n",
    "            else:\n",
    "                ff[j]+=1"
   ]
  },
  {
   "cell_type": "code",
   "execution_count": 6,
   "metadata": {},
   "outputs": [
    {
     "name": "stdout",
     "output_type": "stream",
     "text": [
      "[7 2 1 ... 4 5 6]\n"
     ]
    }
   ],
   "source": [
    "from sklearn.metrics import *\n",
    "print(pred )\n",
    "cnf_matrix = confusion_matrix(y_test, pred)"
   ]
  },
  {
   "cell_type": "code",
   "execution_count": 7,
   "metadata": {},
   "outputs": [
    {
     "name": "stdout",
     "output_type": "stream",
     "text": [
      "Normalized confusion matrix\n",
      "[[9.94897959e-01 0.00000000e+00 2.04081633e-03 0.00000000e+00\n",
      "  0.00000000e+00 0.00000000e+00 1.02040816e-03 1.02040816e-03\n",
      "  1.02040816e-03 0.00000000e+00]\n",
      " [0.00000000e+00 9.95594714e-01 1.76211454e-03 8.81057269e-04\n",
      "  0.00000000e+00 8.81057269e-04 8.81057269e-04 0.00000000e+00\n",
      "  0.00000000e+00 0.00000000e+00]\n",
      " [9.68992248e-04 0.00000000e+00 9.96124031e-01 0.00000000e+00\n",
      "  0.00000000e+00 0.00000000e+00 0.00000000e+00 2.90697674e-03\n",
      "  0.00000000e+00 0.00000000e+00]\n",
      " [0.00000000e+00 0.00000000e+00 3.96039604e-03 9.93069307e-01\n",
      "  0.00000000e+00 1.98019802e-03 0.00000000e+00 0.00000000e+00\n",
      "  9.90099010e-04 0.00000000e+00]\n",
      " [0.00000000e+00 0.00000000e+00 0.00000000e+00 0.00000000e+00\n",
      "  9.92871690e-01 0.00000000e+00 4.07331976e-03 0.00000000e+00\n",
      "  0.00000000e+00 3.05498982e-03]\n",
      " [3.36322870e-03 1.12107623e-03 0.00000000e+00 5.60538117e-03\n",
      "  0.00000000e+00 9.86547085e-01 3.36322870e-03 0.00000000e+00\n",
      "  0.00000000e+00 0.00000000e+00]\n",
      " [4.17536534e-03 2.08768267e-03 0.00000000e+00 1.04384134e-03\n",
      "  1.04384134e-03 1.04384134e-03 9.89561587e-01 0.00000000e+00\n",
      "  1.04384134e-03 0.00000000e+00]\n",
      " [0.00000000e+00 9.72762646e-04 7.78210117e-03 9.72762646e-04\n",
      "  0.00000000e+00 0.00000000e+00 0.00000000e+00 9.89299611e-01\n",
      "  9.72762646e-04 0.00000000e+00]\n",
      " [2.05338809e-03 0.00000000e+00 3.08008214e-03 1.02669405e-03\n",
      "  0.00000000e+00 0.00000000e+00 0.00000000e+00 3.08008214e-03\n",
      "  9.89733060e-01 1.02669405e-03]\n",
      " [3.96432111e-03 0.00000000e+00 0.00000000e+00 1.98216056e-03\n",
      "  6.93756194e-03 2.97324083e-03 0.00000000e+00 5.94648167e-03\n",
      "  4.95540139e-03 9.73240833e-01]]\n"
     ]
    },
    {
     "data": {
      "image/png": "[encoded data removed]",
      "text/plain": [
       "<Figure size 432x288 with 2 Axes>"
      ]
     },
     "metadata": {},
     "output_type": "display_data"
    }
   ],
   "source": [
    "import sys\n",
    "sys.path.append(\"../utils\")\n",
    "from confusion import *\n",
    "plot_confusion_matrix(cnf_matrix, [str(i+1) for i in range(10)],normalize=True)"
   ]
  },
  {
   "cell_type": "code",
   "execution_count": null,
   "metadata": {},
   "outputs": [],
   "source": []
  }
 ],
 "metadata": {
  "kernelspec": {
   "display_name": "Python 3",
   "language": "python",
   "name": "python3"
  },
  "language_info": {
   "codemirror_mode": {
    "name": "ipython",
    "version": 3
   },
   "file_extension": ".py",
   "mimetype": "text/x-python",
   "name": "python",
   "nbconvert_exporter": "python",
   "pygments_lexer": "ipython3",
   "version": "3.5.2"
  }
 },
 "nbformat": 4,
 "nbformat_minor": 2
}
